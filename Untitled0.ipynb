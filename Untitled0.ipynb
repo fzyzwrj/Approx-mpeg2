{
  "nbformat": 4,
  "nbformat_minor": 0,
  "metadata": {
    "colab": {
      "name": "Untitled0.ipynb",
      "version": "0.3.2",
      "provenance": [],
      "include_colab_link": true
    },
    "kernelspec": {
      "name": "python3",
      "display_name": "Python 3"
    }
  },
  "cells": [
    {
      "cell_type": "markdown",
      "metadata": {
        "id": "view-in-github",
        "colab_type": "text"
      },
      "source": [
        "<a href=\"https://colab.research.google.com/github/fzyzwrj/Approx-mpeg2/blob/master/Untitled0.ipynb\" target=\"_parent\"><img src=\"https://colab.research.google.com/assets/colab-badge.svg\" alt=\"Open In Colab\"/></a>"
      ]
    },
    {
      "metadata": {
        "id": "RNC5cl_U66ng",
        "colab_type": "code",
        "colab": {
          "base_uri": "https://localhost:8080/",
          "height": 1817
        },
        "outputId": "eade21a8-c734-4353-b5d3-f71cd268db91"
      },
      "cell_type": "code",
      "source": [
        "!pip install zip"
      ],
      "execution_count": 4,
      "outputs": [
        {
          "output_type": "stream",
          "text": [
            "Collecting zip\n",
            "  Downloading https://files.pythonhosted.org/packages/dd/31/1c0dc71cd947a5c48f18b0ff9d8fd3a0da0bad9fa63c36dfd9715676926d/zip-0.0.2.tar.gz\n",
            "Collecting Flask-Admin>=1.0.4 (from zip)\n",
            "\u001b[?25l  Downloading https://files.pythonhosted.org/packages/ef/2a/c3f081310e22443ee3bd69b09ee710d208285e4c4b44a5812fe2d8465a92/Flask-Admin-1.5.2.tar.gz (1.6MB)\n",
            "\u001b[K    100% |████████████████████████████████| 1.6MB 7.4MB/s \n",
            "\u001b[?25hCollecting Flask-Bootstrap>=2.2.2-1 (from zip)\n",
            "\u001b[?25l  Downloading https://files.pythonhosted.org/packages/88/53/958ce7c2aa26280b7fd7f3eecbf13053f1302ee2acb1db58ef32e1c23c2a/Flask-Bootstrap-3.3.7.1.tar.gz (456kB)\n",
            "\u001b[K    100% |████████████████████████████████| 460kB 13.9MB/s \n",
            "\u001b[?25hCollecting Flask-Cache>=0.10.1 (from zip)\n",
            "\u001b[?25l  Downloading https://files.pythonhosted.org/packages/91/c4/f71095437bd4b691c63f240e72a20c57e2c216085cbc271f79665885d3da/Flask-Cache-0.13.1.tar.gz (45kB)\n",
            "\u001b[K    100% |████████████████████████████████| 51kB 17.5MB/s \n",
            "\u001b[?25hCollecting Flask-FlatPages>=0.3 (from zip)\n",
            "  Downloading https://files.pythonhosted.org/packages/90/e5/a5f0b2a64fcf34981ccc01f850a2dbb1f7950b7a976b28a932a4071edddb/Flask_FlatPages-0.7.0-py2.py3-none-any.whl\n",
            "Collecting Flask-Gravatar>=0.2.4 (from zip)\n",
            "  Downloading https://files.pythonhosted.org/packages/58/4a/b20260e8d383d0037f2791dd8a3f3ea729ca9f02d7638677a34a236a8702/Flask_Gravatar-0.5.0-py2.py3-none-any.whl\n",
            "Collecting Flask-Login>=0.1.3 (from zip)\n",
            "  Downloading https://files.pythonhosted.org/packages/c1/ff/bd9a4d2d81bf0c07d9e53e8cd3d675c56553719bbefd372df69bf1b3c1e4/Flask-Login-0.4.1.tar.gz\n",
            "Collecting Flask-Mail>=0.7.4 (from zip)\n",
            "\u001b[?25l  Downloading https://files.pythonhosted.org/packages/05/2f/6a545452040c2556559779db87148d2a85e78a26f90326647b51dc5e81e9/Flask-Mail-0.9.1.tar.gz (45kB)\n",
            "\u001b[K    100% |████████████████████████████████| 51kB 19.0MB/s \n",
            "\u001b[?25hCollecting Flask-PyMongo>=0.2.1 (from zip)\n",
            "  Downloading https://files.pythonhosted.org/packages/d5/c8/22ddacfe05893884dceef5b9ecfa683f947ba155bd63cd9d841aea29b7b7/Flask_PyMongo-2.2.0-py2.py3-none-any.whl\n",
            "Collecting Flask-Restless>=0.9.1 (from zip)\n",
            "\u001b[?25l  Downloading https://files.pythonhosted.org/packages/ae/ad/14eee74ef110f2bd8641de98675037f037dd06d614f7c435671be66a55c7/Flask-Restless-0.17.0.tar.gz (42kB)\n",
            "\u001b[K    100% |████████████████████████████████| 51kB 19.9MB/s \n",
            "\u001b[?25hCollecting Flask-SQLAlchemy>=0.16 (from zip)\n",
            "  Downloading https://files.pythonhosted.org/packages/a1/44/294fb7f6bf49cc7224417cd0637018db9fee0729b4fe166e43e2bbb1f1c8/Flask_SQLAlchemy-2.3.2-py2.py3-none-any.whl\n",
            "Collecting Flask-Themes>=0.1.3 (from zip)\n",
            "  Downloading https://files.pythonhosted.org/packages/1a/12/5be3cc2a56c63277177a7e3db4a8f346b9f68a6641277bb3029d401688e3/Flask-Themes-0.1.3.tar.gz\n",
            "Collecting Flask-Uploads>=0.1.3 (from zip)\n",
            "  Downloading https://files.pythonhosted.org/packages/c9/a8/2c8e9ec04267d94b7852a374cebeb9a32d60f8cba83818af960e64fafbec/Flask-Uploads-0.2.1.tar.gz\n",
            "Collecting Flask-WTF>=0.8.2 (from zip)\n",
            "  Downloading https://files.pythonhosted.org/packages/60/3a/58c629472d10539ae5167dc7c1fecfa95dd7d0b7864623931e3776438a24/Flask_WTF-0.14.2-py2.py3-none-any.whl\n",
            "Collecting Flask>=0.9 (from zip)\n",
            "\u001b[?25l  Downloading https://files.pythonhosted.org/packages/7f/e7/08578774ed4536d3242b14dacb4696386634607af824ea997202cd0edb4b/Flask-1.0.2-py2.py3-none-any.whl (91kB)\n",
            "\u001b[K    100% |████████████████████████████████| 92kB 24.5MB/s \n",
            "\u001b[?25hCollecting frozen-flask (from zip)\n",
            "  Downloading https://files.pythonhosted.org/packages/94/f7/d04d4ee76a9ceb4c1dc1846e86d8784b72e38179fd5f468b61e77bb52296/Frozen_Flask-0.15-py2.py3-none-any.whl\n",
            "Requirement already satisfied: Jinja2>=2.6 in /usr/local/lib/python3.6/dist-packages (from zip) (2.10)\n",
            "Requirement already satisfied: Markdown>=2.2.1 in /usr/local/lib/python3.6/dist-packages (from zip) (3.0.1)\n",
            "Requirement already satisfied: PyYAML>=3.11 in /usr/local/lib/python3.6/dist-packages (from zip) (3.13)\n",
            "Collecting SQLAlchemy>=0.8.0b2 (from zip)\n",
            "\u001b[?25l  Downloading https://files.pythonhosted.org/packages/a7/2f/e457d5c0b26f4e504c4bc368e51f635c6b1c565f898564fa02e799e7c2a7/SQLAlchemy-1.3.0b1.tar.gz (5.9MB)\n",
            "\u001b[K    100% |████████████████████████████████| 5.9MB 5.3MB/s \n",
            "\u001b[?25hCollecting Sphinx>=1.3.1 (from zip)\n",
            "\u001b[?25l  Downloading https://files.pythonhosted.org/packages/ff/d5/3a8727d6f890b1ae45da72a55bf8449e9f2c535a444923b338c3f509f203/Sphinx-1.8.2-py2.py3-none-any.whl (3.1MB)\n",
            "\u001b[K    100% |████████████████████████████████| 3.1MB 9.8MB/s \n",
            "\u001b[?25hCollecting WTForms>=1.0.3 (from zip)\n",
            "\u001b[?25l  Downloading https://files.pythonhosted.org/packages/9f/c8/dac5dce9908df1d9d48ec0e26e2a250839fa36ea2c602cc4f85ccfeb5c65/WTForms-2.2.1-py2.py3-none-any.whl (166kB)\n",
            "\u001b[K    100% |████████████████████████████████| 174kB 31.5MB/s \n",
            "\u001b[?25hRequirement already satisfied: Werkzeug>=0.8.3 in /usr/local/lib/python3.6/dist-packages (from zip) (0.14.1)\n",
            "Collecting argparse>=1.2.1 (from zip)\n",
            "  Downloading https://files.pythonhosted.org/packages/f2/94/3af39d34be01a24a6e65433d19e107099374224905f1e0cc6bbe1fd22a2f/argparse-1.4.0-py2.py3-none-any.whl\n",
            "Collecting blinker>=1.2 (from zip)\n",
            "\u001b[?25l  Downloading https://files.pythonhosted.org/packages/1b/51/e2a9f3b757eb802f61dc1f2b09c8c99f6eb01cf06416c0671253536517b6/blinker-1.4.tar.gz (111kB)\n",
            "\u001b[K    100% |████████████████████████████████| 112kB 32.3MB/s \n",
            "\u001b[?25hCollecting bumpversion>=0.5.3 (from zip)\n",
            "  Downloading https://files.pythonhosted.org/packages/ad/34/49c914829066558ebd405a56647d3ee26856282b8b8c4cd2c0c8de40ff8e/bumpversion-0.5.3-py2.py3-none-any.whl\n",
            "Collecting click>=6.3 (from zip)\n",
            "\u001b[?25l  Downloading https://files.pythonhosted.org/packages/fa/37/45185cb5abbc30d7257104c434fe0b07e5a195a6847506c074527aa599ec/Click-7.0-py2.py3-none-any.whl (81kB)\n",
            "\u001b[K    100% |████████████████████████████████| 81kB 24.4MB/s \n",
            "\u001b[?25hCollecting colorama>=0.3.7 (from zip)\n",
            "  Downloading https://files.pythonhosted.org/packages/0a/93/6e8289231675d561d476d656c2ee3a868c1cca207e16c118d4503b25e2bf/colorama-0.4.0-py2.py3-none-any.whl\n",
            "Collecting coverage>=4.0 (from zip)\n",
            "\u001b[?25l  Downloading https://files.pythonhosted.org/packages/a4/5c/b3eac6aa7eb4af83c8580d9c1578343910bdcc59e64e3565402f9a527f9c/coverage-4.5.2-cp36-cp36m-manylinux1_x86_64.whl (205kB)\n",
            "\u001b[K    100% |████████████████████████████████| 215kB 27.3MB/s \n",
            "\u001b[?25hCollecting cryptography>=1.0.1 (from zip)\n",
            "\u001b[?25l  Downloading https://files.pythonhosted.org/packages/60/c7/99b33c53cf3f20a97a4c4bfd3ab66dcc93d99da0a97cc9597aa36ae6bb62/cryptography-2.4.2-cp34-abi3-manylinux1_x86_64.whl (2.1MB)\n",
            "\u001b[K    100% |████████████████████████████████| 2.1MB 13.9MB/s \n",
            "\u001b[?25hCollecting flake8>=2.4.1 (from zip)\n",
            "\u001b[?25l  Downloading https://files.pythonhosted.org/packages/34/a6/49e2849a0e5464e1b5d621f63bc8453066f0f367bb3b744a33fca0bc1ddd/flake8-3.6.0-py2.py3-none-any.whl (68kB)\n",
            "\u001b[K    100% |████████████████████████████████| 71kB 17.7MB/s \n",
            "\u001b[?25hRequirement already satisfied: networkx>=1.11 in /usr/local/lib/python3.6/dist-packages (from zip) (2.2)\n",
            "Collecting pymongo>=2.5.1 (from zip)\n",
            "\u001b[?25l  Downloading https://files.pythonhosted.org/packages/b1/45/5440555b901a8416196fbf2499c4678ef74de8080c007104107a8cfdda20/pymongo-3.7.2-cp36-cp36m-manylinux1_x86_64.whl (408kB)\n",
            "\u001b[K    100% |████████████████████████████████| 409kB 26.1MB/s \n",
            "\u001b[?25hRequirement already satisfied: pytest>=2.8.3 in /usr/local/lib/python3.6/dist-packages (from zip) (3.10.1)\n",
            "Requirement already satisfied: python-dateutil>=1.5 in /usr/local/lib/python3.6/dist-packages (from zip) (2.5.3)\n",
            "Requirement already satisfied: six>=1.10.0 in /usr/local/lib/python3.6/dist-packages (from zip) (1.11.0)\n",
            "Collecting tox>=2.1.1 (from zip)\n",
            "\u001b[?25l  Downloading https://files.pythonhosted.org/packages/d0/43/2160a300e0b77a929a980f36ac7427dcef8f4ddac7a8c21e5a8baedad828/tox-3.5.3-py2.py3-none-any.whl (53kB)\n",
            "\u001b[K    100% |████████████████████████████████| 61kB 22.1MB/s \n",
            "\u001b[?25hCollecting watchdog>=0.8.3 (from zip)\n",
            "\u001b[?25l  Downloading https://files.pythonhosted.org/packages/bb/e3/5a55d48a29300160779f0a0d2776d17c1b762a2039b36de528b093b87d5b/watchdog-0.9.0.tar.gz (85kB)\n",
            "\u001b[K    100% |████████████████████████████████| 92kB 28.2MB/s \n",
            "\u001b[?25hRequirement already satisfied: wheel>=0.23.0 in /usr/local/lib/python3.6/dist-packages (from zip) (0.32.3)\n",
            "Collecting wsgiref>=0.1.2 (from zip)\n",
            "  Downloading https://files.pythonhosted.org/packages/41/9e/309259ce8dff8c596e8c26df86dbc4e848b9249fd36797fd60be456f03fc/wsgiref-0.1.2.zip\n",
            "    Complete output from command python setup.py egg_info:\n",
            "    Traceback (most recent call last):\n",
            "      File \"<string>\", line 1, in <module>\n",
            "      File \"/tmp/pip-install-t_l32mlc/wsgiref/setup.py\", line 5, in <module>\n",
            "        import ez_setup\n",
            "      File \"/tmp/pip-install-t_l32mlc/wsgiref/ez_setup/__init__.py\", line 170\n",
            "        print \"Setuptools version\",version,\"or greater has been installed.\"\n",
            "                                 ^\n",
            "    SyntaxError: Missing parentheses in call to 'print'. Did you mean print(\"Setuptools version\",version,\"or greater has been installed.\")?\n",
            "    \n",
            "    ----------------------------------------\n",
            "\u001b[31mCommand \"python setup.py egg_info\" failed with error code 1 in /tmp/pip-install-t_l32mlc/wsgiref/\u001b[0m\n"
          ],
          "name": "stdout"
        }
      ]
    }
  ]
}